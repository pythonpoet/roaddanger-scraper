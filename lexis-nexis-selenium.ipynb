{
 "cells": [
  {
   "cell_type": "code",
   "execution_count": null,
   "metadata": {},
   "outputs": [],
   "source": [
    "from selenium import webdriver\n",
    "from selenium.webdriver.chrome.service import Service\n",
    "from webdriver_manager.chrome import ChromeDriverManager\n",
    "import sys\n",
    "sys.path.insert(0,'/usr/lib/chromium-browser/chromedriver')\n",
    "import time\n",
    "from selenium.webdriver.common.by import By\n",
    "from selenium.webdriver.common.keys import Keys\n",
    "from selenium.webdriver.chrome.options import Options\n",
    "\n",
    "driver = webdriver.Chrome(service=Service(ChromeDriverManager().install()))\n",
    "driver.get(\"https://www.Nexis.com\")\n",
    "\n",
    "time.sleep(5)\n",
    "access = driver.find_element(By.CLASS_NAME, \"mipguest\") # Only at Uni\n",
    "access.click()\n",
    "\n",
    "\n",
    "time.sleep(5)\n",
    "search = driver.find_element(By.CSS_SELECTOR, \"lng-expanding-textarea[placeholder='Geef termen, bronnen of bedrijven op']\")\n",
    "search.click()\n",
    "search.send_keys('ongeval' + Keys.ENTER)\n",
    "\n",
    "n=100\n",
    "for i in range(n):\n",
    "    time.sleep(5)\n",
    "    selectall_button = driver.find_element(By.CSS_SELECTOR, \"input[data-action='selectall']\")\n",
    "    selectall_button.click()\n",
    "    time.sleep(2)\n",
    "    driver.execute_script(\"window.scrollTo(0, document.body.scrollHeight);\")\n",
    "\n",
    "    next_button = driver.find_element(By.CSS_SELECTOR, \"a[data-action='nextpage']\")\n",
    "    next_button.click()\n",
    "\n",
    "export = driver.find_element(By.CLASS_NAME, \"icon la-Download\")\n",
    "export.click()"
   ]
  }
 ],
 "metadata": {
  "kernelspec": {
   "display_name": "base",
   "language": "python",
   "name": "python3"
  },
  "language_info": {
   "name": "python",
   "version": "3.12.7"
  }
 },
 "nbformat": 4,
 "nbformat_minor": 2
}
