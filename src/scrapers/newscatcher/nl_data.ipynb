{
 "cells": [
  {
   "cell_type": "markdown",
   "metadata": {},
   "source": [
    "# Newscatcher data import"
   ]
  },
  {
   "cell_type": "code",
   "execution_count": null,
   "metadata": {},
   "outputs": [],
   "source": [
    "from newscatcherapi import NewsCatcherApiClient\n",
    "newscatcherapi = NewsCatcherApiClient(x_api_key='')\n",
    "\n",
    "query = \"ongeval OR ongeluk AND auto OR bus OR fiets OR motor OR scooter OR vrachtwagen\"\n",
    "\n",
    "all_articles = newscatcherapi.get_search_all_pages(q=query,\n",
    "                                         #lang='en',\n",
    "                                         countries='NL',\n",
    "                                         from_=\"2022/02/24\",\n",
    "                                         to_=\"2023/11/20\",\n",
    "                                         page_size=100,\n",
    "                                         max_page=10,\n",
    "                                         seconds_pause=1.0\n",
    "                                         )"
   ]
  },
  {
   "cell_type": "code",
   "execution_count": null,
   "metadata": {},
   "outputs": [],
   "source": [
    "def save_to_json(data, file):\n",
    "    # Save JSON data to a file\n",
    "    with open(file, \"w\") as json_file:\n",
    "        json.dump(data, json_file, indent=4)\n",
    "save_to_json(all_articles, \"NC_NL_qongeval_OR_ongeluk_AND_auto_OR_bus_OR_fiets_OR_motor_OR_scooter_OR_vrachtwagen_2022-02-24_2023_11_20.json\")"
   ]
  },
  {
   "cell_type": "code",
   "execution_count": null,
   "metadata": {},
   "outputs": [],
   "source": [
    "from newspaper import Article\n",
    "from full_text_search import *\n",
    "query =  \"ongeval OR ongeluk AND auto OR bus OR fiets OR motor OR scooter OR vrachtwagen\"\n",
    "for article in all_articles[\"articles\"]:\n",
    "    #a = Article(article[\"link\"])\n",
    "    #a.download()\n",
    "    #a.parse()\n",
    "    result = search_in_text(query, article[\"title\"] + article[\"summary\"])\n",
    "    if not result:\n",
    "        display(article[\"title\"],article[\"summary\"])"
   ]
  },
  {
   "cell_type": "code",
   "execution_count": null,
   "metadata": {},
   "outputs": [],
   "source": [
    "import pandas as pd\n",
    "import matplotlib.pyplot as plt\n",
    "import pandas as pd\n",
    "import seaborn as sns\n",
    "df = pd.DataFrame(all_articles[\"articles\"])\n",
    "df['text_length'] = df['summary'].str.len()\n",
    "\n",
    "# Plot distribution\n",
    "plt.figure(figsize=(10, 6))\n",
    "sns.histplot(df['text_length'], bins=100, kde=True, color='blue')\n",
    "plt.title('Distribution of Text Lengths', fontsize=16)\n",
    "plt.xlabel('Text Length', fontsize=14)\n",
    "plt.ylabel('Frequency', fontsize=14)\n",
    "plt.grid(axis='y', linestyle='--', alpha=0.7)\n",
    "plt.show()"
   ]
  },
  {
   "cell_type": "code",
   "execution_count": null,
   "metadata": {},
   "outputs": [],
   "source": [
    "\n",
    "\n",
    "\n",
    "df = pd.DataFrame(all_articles[\"articles\"])\n",
    "df['text_length'] = df['summary'].str.len()\n",
    "new_df = df[df[\"text_length\"] > 6000]\n",
    "len(new_df)\n",
    "display(new_df[\"title\"])\n"
   ]
  }
 ],
 "metadata": {
  "kernelspec": {
   "display_name": "base",
   "language": "python",
   "name": "python3"
  },
  "language_info": {
   "codemirror_mode": {
    "name": "ipython",
    "version": 3
   },
   "file_extension": ".py",
   "mimetype": "text/x-python",
   "name": "python",
   "nbconvert_exporter": "python",
   "pygments_lexer": "ipython3",
   "version": "3.11.4"
  }
 },
 "nbformat": 4,
 "nbformat_minor": 2
}
