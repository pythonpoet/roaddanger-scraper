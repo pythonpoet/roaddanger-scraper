{
 "cells": [
  {
   "cell_type": "code",
   "execution_count": null,
   "metadata": {},
   "outputs": [
    {
     "name": "stdout",
     "output_type": "stream",
     "text": [
      "------------------------------\n",
      "Title: Auffahrunfall auf A14 führte zu Staus\n",
      "Date: 2024-11-19T09:05:30Z\n",
      "Content: Laut Polizeibericht war ein Autolenker gegen 17.55 Uhr auf der Autobahn A14 unterwegs in Richtung Deutschland, als er zwischen Hohenems und Dornbirn-Süd verkehrsbedingt abbremsen musste. Ein nachfolg… [+573 chars]\n",
      "URL: https://vorarlberg.orf.at/stories/3281756/\n",
      "------------------------------\n",
      "Title: Verkehrsunfall: Überholmanöver auf Kreisstraße endet mit drei Verletzten\n",
      "Date: 2024-11-19T07:43:24Z\n",
      "Content: Bei einem Unfall auf der Kreisstraße DLG 17 bei Gundelfingen (Landkreis Dillingen an der Donau) sind drei Menschen verletzt worden. Unter den Verletzten waren auch eine Mutter und ihr einjähriges Kin… [+955 chars]\n",
      "URL: https://www.zeit.de/news/2024-11/19/ueberholmanoever-auf-kreisstrasse-endet-mit-drei-verletzten\n",
      "------------------------------\n",
      "Title: Verkehrsunfall: Überholmanöver auf Kreisstraße endet mit drei Verletzten\n",
      "Date: 2024-11-19T07:43:24Z\n",
      "Content: Kopiere den aktuellen Link\n",
      "Ein Überholvorgang zwischen Gundelfingen und Offingen endet für eine Frau und ihr Kleinkind im Krankenhaus.\n",
      "Bei einem Unfall auf der Kreisstraße DLG 17 bei Gundelfingen (… [+1052 chars]\n",
      "URL: https://www.stern.de/gesellschaft/regional/bayern/verkehrsunfall--ueberholmanoever-auf-kreisstrasse-endet-mit-drei-verletzten-35239410.html\n"
     ]
    }
   ],
   "source": [
    "import requests\n",
    "import json\n",
    "from newspaper import Article\n",
    "\n",
    "#API endpoint with parameters for key terms and sources\n",
    "url = ('https://newsapi.org/v2/everything?'\n",
    "       'q=Unfall AND Verkehr&'\n",
    "       'sortBy=publishedAt&'\n",
    "       'language=de&'\n",
    "       'apiKey=8338bcc886c64b0c8ba85323162fccb6')\n",
    "\n",
    "#send a request to News API\n",
    "response = requests.get(url)\n",
    "\n",
    "#parse the response\n",
    "data = response.json()\n",
    "\n",
    "#save the data to a JSON file\n",
    "with open('newsapi.json', 'w') as writeFile:\n",
    "    json.dump(data, writeFile)\n",
    "\n",
    "#print out the first few articles\n",
    "articles = data.get('articles', [])\n",
    "for article in articles[:3]:  #adjust the range if needed\n",
    "    print(f\"{'-'*30}\")\n",
    "    print(f\"Title: {article['title']}\")\n",
    "    print(f\"Date: {article['publishedAt']}\")\n",
    "    print(f\"Content: {article['content']}\")\n",
    "    print(f\"URL: {article['url']}\")\n"
   ]
  }
 ],
 "metadata": {
  "kernelspec": {
   "display_name": "base",
   "language": "python",
   "name": "python3"
  },
  "language_info": {
   "codemirror_mode": {
    "name": "ipython",
    "version": 3
   },
   "file_extension": ".py",
   "mimetype": "text/x-python",
   "name": "python",
   "nbconvert_exporter": "python",
   "pygments_lexer": "ipython3",
   "version": "3.11.4"
  }
 },
 "nbformat": 4,
 "nbformat_minor": 2
}
