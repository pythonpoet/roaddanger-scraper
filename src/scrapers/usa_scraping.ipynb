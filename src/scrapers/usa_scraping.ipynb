{
 "cells": [
  {
   "cell_type": "code",
   "execution_count": 2,
   "metadata": {},
   "outputs": [],
   "source": [
    "import requests\n",
    "import json\n",
    "\n",
    "#API endpoint with parameters for key terms and sources\n",
    "url = ('https://newsapi.org/v2/everything?'\n",
    "       'q=pedestrian struck OR hit by car OR pedestrian accident OR driver hits pedestrian&'\n",
    "       'sources=cnn,the-new-york-times,abc-news,nbc-news,usa-today,fox-news,'\n",
    "       'la-times,miami-herald,houston-chronicle,chicago-tribune,san-francisco-chronicle&'\n",
    "       'sortBy=publishedAt&'\n",
    "       'language=en&'\n",
    "       'apiKey=43fa783492f444faa7f23c03c5b09a6d')\n",
    "\n",
    "#send a request to News API\n",
    "response = requests.get(url)\n",
    "\n",
    "#parse the response\n",
    "data = response.json()\n",
    "\n",
    "#save the data to a JSON file\n",
    "with open('newsapi.json', 'w') as writeFile:\n",
    "    json.dump(data, writeFile)\n",
    "\n",
    "#print out the first few articles\n",
    "articles = data.get('articles', [])\n",
    "for article in articles[:3]:  #adjust the range if needed\n",
    "    print(f\"{'-'*30}\")\n",
    "    print(f\"Title: {article['title']}\")\n",
    "    print(f\"Date: {article['publishedAt']}\")\n",
    "    print(f\"Content: {article['content']}\")\n",
    "    print(f\"URL: {article['url']}\")\n"
   ]
  }
 ],
 "metadata": {
  "kernelspec": {
   "display_name": "base",
   "language": "python",
   "name": "python3"
  },
  "language_info": {
   "codemirror_mode": {
    "name": "ipython",
    "version": 3
   },
   "file_extension": ".py",
   "mimetype": "text/x-python",
   "name": "python",
   "nbconvert_exporter": "python",
   "pygments_lexer": "ipython3",
   "version": "3.11.4"
  }
 },
 "nbformat": 4,
 "nbformat_minor": 2
}
