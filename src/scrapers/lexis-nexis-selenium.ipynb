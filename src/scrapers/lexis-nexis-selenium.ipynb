{
 "cells": [
  {
   "cell_type": "code",
   "execution_count": null,
   "metadata": {},
   "outputs": [
    {
     "ename": "KeyboardInterrupt",
     "evalue": "",
     "output_type": "error",
     "traceback": [
      "\u001b[0;31m---------------------------------------------------------------------------\u001b[0m",
      "\u001b[0;31mKeyboardInterrupt\u001b[0m                         Traceback (most recent call last)",
      "Cell \u001b[0;32mIn[1], line 14\u001b[0m\n\u001b[1;32m     11\u001b[0m driver \u001b[38;5;241m=\u001b[39m webdriver\u001b[38;5;241m.\u001b[39mChrome(service\u001b[38;5;241m=\u001b[39mService(ChromeDriverManager()\u001b[38;5;241m.\u001b[39minstall()))\n\u001b[1;32m     12\u001b[0m driver\u001b[38;5;241m.\u001b[39mget(\u001b[38;5;124m\"\u001b[39m\u001b[38;5;124mhttps://www.Nexis.com\u001b[39m\u001b[38;5;124m\"\u001b[39m)\n\u001b[0;32m---> 14\u001b[0m time\u001b[38;5;241m.\u001b[39msleep(\u001b[38;5;241m5\u001b[39m)\n\u001b[1;32m     15\u001b[0m access \u001b[38;5;241m=\u001b[39m driver\u001b[38;5;241m.\u001b[39mfind_element(By\u001b[38;5;241m.\u001b[39mCLASS_NAME, \u001b[38;5;124m\"\u001b[39m\u001b[38;5;124mmipguest\u001b[39m\u001b[38;5;124m\"\u001b[39m) \u001b[38;5;66;03m# Only at Uni\u001b[39;00m\n\u001b[1;32m     16\u001b[0m access\u001b[38;5;241m.\u001b[39mclick()\n",
      "\u001b[0;31mKeyboardInterrupt\u001b[0m: "
     ]
    }
   ],
   "source": [
    "from selenium import webdriver\n",
    "from selenium.webdriver.chrome.service import Service\n",
    "from webdriver_manager.chrome import ChromeDriverManager\n",
    "import sys\n",
    "sys.path.insert(0,'/usr/lib/chromium-browser/chromedriver')\n",
    "import time\n",
    "from selenium.webdriver.common.by import By\n",
    "from selenium.webdriver.common.keys import Keys\n",
    "from selenium.webdriver.chrome.options import Options\n",
    "\n",
    "driver = webdriver.Chrome(service=Service(ChromeDriverManager().install()))\n",
    "driver.get(\"https://www.Nexis.com\")\n",
    "\n",
    "time.sleep(5)\n",
    "access = driver.find_element(By.CLASS_NAME, \"mipguest\") # Only at Uni\n",
    "access.click()\n",
    "\n",
    "\n",
    "time.sleep(5)\n",
    "search = driver.find_element(By.CSS_SELECTOR, \"lng-expanding-textarea[placeholder='Geef termen, bronnen of bedrijven op']\")\n",
    "search.click()\n",
    "search.send_keys('ongeval' + Keys.ENTER)\n",
    "\n",
    "n=10\n",
    "for i in range(n):\n",
    "    time.sleep(5)\n",
    "    selectall_button = driver.find_element(By.CSS_SELECTOR, \"input[data-action='selectall']\")\n",
    "    selectall_button.click()\n",
    "    time.sleep(2)\n",
    "    driver.execute_script(\"window.scrollTo(0, document.body.scrollHeight);\")\n",
    "\n",
    "    next_button = driver.find_element(By.CSS_SELECTOR, \"a[data-action='nextpage']\")\n",
    "    next_button.click()\n",
    "\n",
    "export = driver.find_element(By.CLASS_NAME, \"icon la-Download\")\n",
    "export.click()"
   ]
  }
 ],
 "metadata": {
  "kernelspec": {
   "display_name": "base",
   "language": "python",
   "name": "python3"
  },
  "language_info": {
   "codemirror_mode": {
    "name": "ipython",
    "version": 3
   },
   "file_extension": ".py",
   "mimetype": "text/x-python",
   "name": "python",
   "nbconvert_exporter": "python",
   "pygments_lexer": "ipython3",
   "version": "3.12.7"
  }
 },
 "nbformat": 4,
 "nbformat_minor": 2
}
