{
 "cells": [
  {
   "cell_type": "code",
   "execution_count": null,
   "metadata": {},
   "outputs": [
    {
     "ename": "ElementClickInterceptedException",
     "evalue": "Message: element click intercepted: Element <input type=\"checkbox\" data-action=\"selectall\" aria-label=\"Hiermee selecteert u alle items op deze pagina\"> is not clickable at point (366, 223). Other element would receive the click: <form id=\"dialog-content\" class=\"modal-dialog-body notranslate dialog-content\" novalidate=\"novalidate\" role=\"form\">...</form>\n  (Session info: chrome=130.0.6723.58)\nStacktrace:\n#0 0x638a3df786da <unknown>\n#1 0x638a3da8cf80 <unknown>\n#2 0x638a3dae06e6 <unknown>\n#3 0x638a3dade66d <unknown>\n#4 0x638a3dadc117 <unknown>\n#5 0x638a3dadb531 <unknown>\n#6 0x638a3daceb28 <unknown>\n#7 0x638a3dafdbb2 <unknown>\n#8 0x638a3dace508 <unknown>\n#9 0x638a3dafdd7e <unknown>\n#10 0x638a3db1c69d <unknown>\n#11 0x638a3dafd953 <unknown>\n#12 0x638a3dacc72e <unknown>\n#13 0x638a3dacd79e <unknown>\n#14 0x638a3df43f1b <unknown>\n#15 0x638a3df47eb8 <unknown>\n#16 0x638a3df3142c <unknown>\n#17 0x638a3df48a37 <unknown>\n#18 0x638a3df15fef <unknown>\n#19 0x638a3df66ad8 <unknown>\n#20 0x638a3df66ca0 <unknown>\n#21 0x638a3df77556 <unknown>\n#22 0x7725f789ca94 <unknown>\n#23 0x7725f7929c3c <unknown>\n",
     "output_type": "error",
     "traceback": [
      "\u001b[0;31m---------------------------------------------------------------------------\u001b[0m",
      "\u001b[0;31mElementClickInterceptedException\u001b[0m          Traceback (most recent call last)",
      "Cell \u001b[0;32mIn[2], line 28\u001b[0m\n\u001b[1;32m     26\u001b[0m time\u001b[38;5;241m.\u001b[39msleep(\u001b[38;5;241m5\u001b[39m)\n\u001b[1;32m     27\u001b[0m selectall_button \u001b[38;5;241m=\u001b[39m driver\u001b[38;5;241m.\u001b[39mfind_element(By\u001b[38;5;241m.\u001b[39mCSS_SELECTOR, \u001b[38;5;124m\"\u001b[39m\u001b[38;5;124minput[data-action=\u001b[39m\u001b[38;5;124m'\u001b[39m\u001b[38;5;124mselectall\u001b[39m\u001b[38;5;124m'\u001b[39m\u001b[38;5;124m]\u001b[39m\u001b[38;5;124m\"\u001b[39m)\n\u001b[0;32m---> 28\u001b[0m selectall_button\u001b[38;5;241m.\u001b[39mclick()\n\u001b[1;32m     29\u001b[0m time\u001b[38;5;241m.\u001b[39msleep(\u001b[38;5;241m2\u001b[39m)\n\u001b[1;32m     30\u001b[0m driver\u001b[38;5;241m.\u001b[39mexecute_script(\u001b[38;5;124m\"\u001b[39m\u001b[38;5;124mwindow.scrollTo(0, document.body.scrollHeight);\u001b[39m\u001b[38;5;124m\"\u001b[39m)\n",
      "File \u001b[0;32m~/anaconda3/lib/python3.12/site-packages/selenium/webdriver/remote/webelement.py:94\u001b[0m, in \u001b[0;36mWebElement.click\u001b[0;34m(self)\u001b[0m\n\u001b[1;32m     92\u001b[0m \u001b[38;5;28;01mdef\u001b[39;00m \u001b[38;5;21mclick\u001b[39m(\u001b[38;5;28mself\u001b[39m) \u001b[38;5;241m-\u001b[39m\u001b[38;5;241m>\u001b[39m \u001b[38;5;28;01mNone\u001b[39;00m:\n\u001b[1;32m     93\u001b[0m \u001b[38;5;250m    \u001b[39m\u001b[38;5;124;03m\"\"\"Clicks the element.\"\"\"\u001b[39;00m\n\u001b[0;32m---> 94\u001b[0m     \u001b[38;5;28mself\u001b[39m\u001b[38;5;241m.\u001b[39m_execute(Command\u001b[38;5;241m.\u001b[39mCLICK_ELEMENT)\n",
      "File \u001b[0;32m~/anaconda3/lib/python3.12/site-packages/selenium/webdriver/remote/webelement.py:395\u001b[0m, in \u001b[0;36mWebElement._execute\u001b[0;34m(self, command, params)\u001b[0m\n\u001b[1;32m    393\u001b[0m     params \u001b[38;5;241m=\u001b[39m {}\n\u001b[1;32m    394\u001b[0m params[\u001b[38;5;124m\"\u001b[39m\u001b[38;5;124mid\u001b[39m\u001b[38;5;124m\"\u001b[39m] \u001b[38;5;241m=\u001b[39m \u001b[38;5;28mself\u001b[39m\u001b[38;5;241m.\u001b[39m_id\n\u001b[0;32m--> 395\u001b[0m \u001b[38;5;28;01mreturn\u001b[39;00m \u001b[38;5;28mself\u001b[39m\u001b[38;5;241m.\u001b[39m_parent\u001b[38;5;241m.\u001b[39mexecute(command, params)\n",
      "File \u001b[0;32m~/anaconda3/lib/python3.12/site-packages/selenium/webdriver/remote/webdriver.py:380\u001b[0m, in \u001b[0;36mWebDriver.execute\u001b[0;34m(self, driver_command, params)\u001b[0m\n\u001b[1;32m    378\u001b[0m response \u001b[38;5;241m=\u001b[39m \u001b[38;5;28mself\u001b[39m\u001b[38;5;241m.\u001b[39mcommand_executor\u001b[38;5;241m.\u001b[39mexecute(driver_command, params)\n\u001b[1;32m    379\u001b[0m \u001b[38;5;28;01mif\u001b[39;00m response:\n\u001b[0;32m--> 380\u001b[0m     \u001b[38;5;28mself\u001b[39m\u001b[38;5;241m.\u001b[39merror_handler\u001b[38;5;241m.\u001b[39mcheck_response(response)\n\u001b[1;32m    381\u001b[0m     response[\u001b[38;5;124m\"\u001b[39m\u001b[38;5;124mvalue\u001b[39m\u001b[38;5;124m\"\u001b[39m] \u001b[38;5;241m=\u001b[39m \u001b[38;5;28mself\u001b[39m\u001b[38;5;241m.\u001b[39m_unwrap_value(response\u001b[38;5;241m.\u001b[39mget(\u001b[38;5;124m\"\u001b[39m\u001b[38;5;124mvalue\u001b[39m\u001b[38;5;124m\"\u001b[39m, \u001b[38;5;28;01mNone\u001b[39;00m))\n\u001b[1;32m    382\u001b[0m     \u001b[38;5;28;01mreturn\u001b[39;00m response\n",
      "File \u001b[0;32m~/anaconda3/lib/python3.12/site-packages/selenium/webdriver/remote/errorhandler.py:229\u001b[0m, in \u001b[0;36mErrorHandler.check_response\u001b[0;34m(self, response)\u001b[0m\n\u001b[1;32m    227\u001b[0m         alert_text \u001b[38;5;241m=\u001b[39m value[\u001b[38;5;124m\"\u001b[39m\u001b[38;5;124malert\u001b[39m\u001b[38;5;124m\"\u001b[39m]\u001b[38;5;241m.\u001b[39mget(\u001b[38;5;124m\"\u001b[39m\u001b[38;5;124mtext\u001b[39m\u001b[38;5;124m\"\u001b[39m)\n\u001b[1;32m    228\u001b[0m     \u001b[38;5;28;01mraise\u001b[39;00m exception_class(message, screen, stacktrace, alert_text)  \u001b[38;5;66;03m# type: ignore[call-arg]  # mypy is not smart enough here\u001b[39;00m\n\u001b[0;32m--> 229\u001b[0m \u001b[38;5;28;01mraise\u001b[39;00m exception_class(message, screen, stacktrace)\n",
      "\u001b[0;31mElementClickInterceptedException\u001b[0m: Message: element click intercepted: Element <input type=\"checkbox\" data-action=\"selectall\" aria-label=\"Hiermee selecteert u alle items op deze pagina\"> is not clickable at point (366, 223). Other element would receive the click: <form id=\"dialog-content\" class=\"modal-dialog-body notranslate dialog-content\" novalidate=\"novalidate\" role=\"form\">...</form>\n  (Session info: chrome=130.0.6723.58)\nStacktrace:\n#0 0x638a3df786da <unknown>\n#1 0x638a3da8cf80 <unknown>\n#2 0x638a3dae06e6 <unknown>\n#3 0x638a3dade66d <unknown>\n#4 0x638a3dadc117 <unknown>\n#5 0x638a3dadb531 <unknown>\n#6 0x638a3daceb28 <unknown>\n#7 0x638a3dafdbb2 <unknown>\n#8 0x638a3dace508 <unknown>\n#9 0x638a3dafdd7e <unknown>\n#10 0x638a3db1c69d <unknown>\n#11 0x638a3dafd953 <unknown>\n#12 0x638a3dacc72e <unknown>\n#13 0x638a3dacd79e <unknown>\n#14 0x638a3df43f1b <unknown>\n#15 0x638a3df47eb8 <unknown>\n#16 0x638a3df3142c <unknown>\n#17 0x638a3df48a37 <unknown>\n#18 0x638a3df15fef <unknown>\n#19 0x638a3df66ad8 <unknown>\n#20 0x638a3df66ca0 <unknown>\n#21 0x638a3df77556 <unknown>\n#22 0x7725f789ca94 <unknown>\n#23 0x7725f7929c3c <unknown>\n"
     ]
    }
   ],
   "source": [
    "from selenium import webdriver\n",
    "from selenium.webdriver.chrome.service import Service\n",
    "from webdriver_manager.chrome import ChromeDriverManager\n",
    "import sys\n",
    "sys.path.insert(0,'/usr/lib/chromium-browser/chromedriver')\n",
    "import time\n",
    "from selenium.webdriver.common.by import By\n",
    "from selenium.webdriver.common.keys import Keys\n",
    "from selenium.webdriver.chrome.options import Options\n",
    "\n",
    "driver = webdriver.Chrome(service=Service(ChromeDriverManager().install()))\n",
    "driver.get(\"https://www.Nexis.com\")\n",
    "\n",
    "time.sleep(5)\n",
    "access = driver.find_element(By.CLASS_NAME, \"mipguest\") # Only at Uni\n",
    "access.click()\n",
    "\n",
    "\n",
    "time.sleep(5)\n",
    "search = driver.find_element(By.CSS_SELECTOR, \"lng-expanding-textarea[placeholder='Geef termen, bronnen of bedrijven op']\")\n",
    "search.click()\n",
    "search.send_keys('ongeval' + Keys.ENTER)\n",
    "\n",
    "n=50 # Maximum of 500 articles per export\n",
    "for i in range(n):\n",
    "    time.sleep(5)\n",
    "    selectall_button = driver.find_element(By.CSS_SELECTOR, \"input[data-action='selectall']\")\n",
    "    selectall_button.click()\n",
    "    time.sleep(2)\n",
    "    driver.execute_script(\"window.scrollTo(0, document.body.scrollHeight);\")\n",
    "\n",
    "    next_button = driver.find_element(By.CSS_SELECTOR, \"a[data-action='nextpage']\")\n",
    "    next_button.click()\n",
    "\n",
    "export = driver.find_element(By.CLASS_NAME, \"icon la-Download\")\n",
    "export.click()"
   ]
  },
  {
   "cell_type": "code",
   "execution_count": 3,
   "metadata": {},
   "outputs": [],
   "source": [
    "from selenium import webdriver\n",
    "from selenium.webdriver.chrome.service import Service\n",
    "from webdriver_manager.chrome import ChromeDriverManager\n",
    "import sys\n",
    "sys.path.insert(0,'/usr/lib/chromium-browser/chromedriver')\n",
    "import time\n",
    "from selenium.webdriver.common.by import By\n",
    "from selenium.webdriver.common.keys import Keys\n",
    "from selenium.webdriver.chrome.options import Options\n",
    "\n",
    "driver = webdriver.Chrome(service=Service(ChromeDriverManager().install()))\n",
    "driver.get(\"https://www.Nexis.com\")\n",
    "\n",
    "time.sleep(5)\n",
    "access = driver.find_element(By.CLASS_NAME, \"mipguest\") # Only at Uni\n",
    "access.click()\n",
    "\n"
   ]
  }
 ],
 "metadata": {
  "kernelspec": {
   "display_name": "base",
   "language": "python",
   "name": "python3"
  },
  "language_info": {
   "codemirror_mode": {
    "name": "ipython",
    "version": 3
   },
   "file_extension": ".py",
   "mimetype": "text/x-python",
   "name": "python",
   "nbconvert_exporter": "python",
   "pygments_lexer": "ipython3",
   "version": "3.12.7"
  }
 },
 "nbformat": 4,
 "nbformat_minor": 2
}
