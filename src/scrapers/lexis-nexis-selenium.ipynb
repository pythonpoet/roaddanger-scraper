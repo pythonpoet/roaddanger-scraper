{
 "cells": [
  {
   "cell_type": "code",
   "execution_count": 5,
   "metadata": {},
   "outputs": [
    {
     "ename": "NoSuchElementException",
     "evalue": "Message: no such element: Unable to locate element: {\"method\":\"css selector\",\"selector\":\"lng-expanding-textarea[placeholder='Geef termen, bronnen of bedrijven op']\"}\n  (Session info: chrome=130.0.6723.58); For documentation on this error, please visit: https://www.selenium.dev/documentation/webdriver/troubleshooting/errors#no-such-element-exception\nStacktrace:\n#0 0x6209dd3ac6da <unknown>\n#1 0x6209dcec0f80 <unknown>\n#2 0x6209dcf0db46 <unknown>\n#3 0x6209dcf0dde1 <unknown>\n#4 0x6209dcf53174 <unknown>\n#5 0x6209dcf31bdd <unknown>\n#6 0x6209dcf5069d <unknown>\n#7 0x6209dcf31953 <unknown>\n#8 0x6209dcf0072e <unknown>\n#9 0x6209dcf0179e <unknown>\n#10 0x6209dd377f1b <unknown>\n#11 0x6209dd37beb8 <unknown>\n#12 0x6209dd36542c <unknown>\n#13 0x6209dd37ca37 <unknown>\n#14 0x6209dd349fef <unknown>\n#15 0x6209dd39aad8 <unknown>\n#16 0x6209dd39aca0 <unknown>\n#17 0x6209dd3ab556 <unknown>\n#18 0x7758d309ca94 <unknown>\n#19 0x7758d3129c3c <unknown>\n",
     "output_type": "error",
     "traceback": [
      "\u001b[0;31m---------------------------------------------------------------------------\u001b[0m",
      "\u001b[0;31mNoSuchElementException\u001b[0m                    Traceback (most recent call last)",
      "Cell \u001b[0;32mIn[5], line 20\u001b[0m\n\u001b[1;32m     16\u001b[0m access\u001b[38;5;241m.\u001b[39mclick()\n\u001b[1;32m     19\u001b[0m time\u001b[38;5;241m.\u001b[39msleep(\u001b[38;5;241m5\u001b[39m)\n\u001b[0;32m---> 20\u001b[0m search \u001b[38;5;241m=\u001b[39m driver\u001b[38;5;241m.\u001b[39mfind_element(By\u001b[38;5;241m.\u001b[39mCSS_SELECTOR, \u001b[38;5;124m\"\u001b[39m\u001b[38;5;124mlng-expanding-textarea[placeholder=\u001b[39m\u001b[38;5;124m'\u001b[39m\u001b[38;5;124mGeef termen, bronnen of bedrijven op\u001b[39m\u001b[38;5;124m'\u001b[39m\u001b[38;5;124m]\u001b[39m\u001b[38;5;124m\"\u001b[39m)\n\u001b[1;32m     21\u001b[0m search\u001b[38;5;241m.\u001b[39mclick()\n\u001b[1;32m     22\u001b[0m search\u001b[38;5;241m.\u001b[39msend_keys(\u001b[38;5;124m'\u001b[39m\u001b[38;5;124mongeval AND verkeer\u001b[39m\u001b[38;5;124m'\u001b[39m \u001b[38;5;241m+\u001b[39m Keys\u001b[38;5;241m.\u001b[39mENTER)\n",
      "File \u001b[0;32m~/anaconda3/lib/python3.12/site-packages/selenium/webdriver/remote/webdriver.py:766\u001b[0m, in \u001b[0;36mWebDriver.find_element\u001b[0;34m(self, by, value)\u001b[0m\n\u001b[1;32m    763\u001b[0m         \u001b[38;5;28;01mraise\u001b[39;00m NoSuchElementException(\u001b[38;5;124mf\u001b[39m\u001b[38;5;124m\"\u001b[39m\u001b[38;5;124mCannot locate relative element with: \u001b[39m\u001b[38;5;132;01m{\u001b[39;00mby\u001b[38;5;241m.\u001b[39mroot\u001b[38;5;132;01m}\u001b[39;00m\u001b[38;5;124m\"\u001b[39m)\n\u001b[1;32m    764\u001b[0m     \u001b[38;5;28;01mreturn\u001b[39;00m elements[\u001b[38;5;241m0\u001b[39m]\n\u001b[0;32m--> 766\u001b[0m \u001b[38;5;28;01mreturn\u001b[39;00m \u001b[38;5;28mself\u001b[39m\u001b[38;5;241m.\u001b[39mexecute(Command\u001b[38;5;241m.\u001b[39mFIND_ELEMENT, {\u001b[38;5;124m\"\u001b[39m\u001b[38;5;124musing\u001b[39m\u001b[38;5;124m\"\u001b[39m: by, \u001b[38;5;124m\"\u001b[39m\u001b[38;5;124mvalue\u001b[39m\u001b[38;5;124m\"\u001b[39m: value})[\u001b[38;5;124m\"\u001b[39m\u001b[38;5;124mvalue\u001b[39m\u001b[38;5;124m\"\u001b[39m]\n",
      "File \u001b[0;32m~/anaconda3/lib/python3.12/site-packages/selenium/webdriver/remote/webdriver.py:380\u001b[0m, in \u001b[0;36mWebDriver.execute\u001b[0;34m(self, driver_command, params)\u001b[0m\n\u001b[1;32m    378\u001b[0m response \u001b[38;5;241m=\u001b[39m \u001b[38;5;28mself\u001b[39m\u001b[38;5;241m.\u001b[39mcommand_executor\u001b[38;5;241m.\u001b[39mexecute(driver_command, params)\n\u001b[1;32m    379\u001b[0m \u001b[38;5;28;01mif\u001b[39;00m response:\n\u001b[0;32m--> 380\u001b[0m     \u001b[38;5;28mself\u001b[39m\u001b[38;5;241m.\u001b[39merror_handler\u001b[38;5;241m.\u001b[39mcheck_response(response)\n\u001b[1;32m    381\u001b[0m     response[\u001b[38;5;124m\"\u001b[39m\u001b[38;5;124mvalue\u001b[39m\u001b[38;5;124m\"\u001b[39m] \u001b[38;5;241m=\u001b[39m \u001b[38;5;28mself\u001b[39m\u001b[38;5;241m.\u001b[39m_unwrap_value(response\u001b[38;5;241m.\u001b[39mget(\u001b[38;5;124m\"\u001b[39m\u001b[38;5;124mvalue\u001b[39m\u001b[38;5;124m\"\u001b[39m, \u001b[38;5;28;01mNone\u001b[39;00m))\n\u001b[1;32m    382\u001b[0m     \u001b[38;5;28;01mreturn\u001b[39;00m response\n",
      "File \u001b[0;32m~/anaconda3/lib/python3.12/site-packages/selenium/webdriver/remote/errorhandler.py:229\u001b[0m, in \u001b[0;36mErrorHandler.check_response\u001b[0;34m(self, response)\u001b[0m\n\u001b[1;32m    227\u001b[0m         alert_text \u001b[38;5;241m=\u001b[39m value[\u001b[38;5;124m\"\u001b[39m\u001b[38;5;124malert\u001b[39m\u001b[38;5;124m\"\u001b[39m]\u001b[38;5;241m.\u001b[39mget(\u001b[38;5;124m\"\u001b[39m\u001b[38;5;124mtext\u001b[39m\u001b[38;5;124m\"\u001b[39m)\n\u001b[1;32m    228\u001b[0m     \u001b[38;5;28;01mraise\u001b[39;00m exception_class(message, screen, stacktrace, alert_text)  \u001b[38;5;66;03m# type: ignore[call-arg]  # mypy is not smart enough here\u001b[39;00m\n\u001b[0;32m--> 229\u001b[0m \u001b[38;5;28;01mraise\u001b[39;00m exception_class(message, screen, stacktrace)\n",
      "\u001b[0;31mNoSuchElementException\u001b[0m: Message: no such element: Unable to locate element: {\"method\":\"css selector\",\"selector\":\"lng-expanding-textarea[placeholder='Geef termen, bronnen of bedrijven op']\"}\n  (Session info: chrome=130.0.6723.58); For documentation on this error, please visit: https://www.selenium.dev/documentation/webdriver/troubleshooting/errors#no-such-element-exception\nStacktrace:\n#0 0x6209dd3ac6da <unknown>\n#1 0x6209dcec0f80 <unknown>\n#2 0x6209dcf0db46 <unknown>\n#3 0x6209dcf0dde1 <unknown>\n#4 0x6209dcf53174 <unknown>\n#5 0x6209dcf31bdd <unknown>\n#6 0x6209dcf5069d <unknown>\n#7 0x6209dcf31953 <unknown>\n#8 0x6209dcf0072e <unknown>\n#9 0x6209dcf0179e <unknown>\n#10 0x6209dd377f1b <unknown>\n#11 0x6209dd37beb8 <unknown>\n#12 0x6209dd36542c <unknown>\n#13 0x6209dd37ca37 <unknown>\n#14 0x6209dd349fef <unknown>\n#15 0x6209dd39aad8 <unknown>\n#16 0x6209dd39aca0 <unknown>\n#17 0x6209dd3ab556 <unknown>\n#18 0x7758d309ca94 <unknown>\n#19 0x7758d3129c3c <unknown>\n"
     ]
    }
   ],
   "source": [
    "from selenium import webdriver\n",
    "from selenium.webdriver.chrome.service import Service\n",
    "from webdriver_manager.chrome import ChromeDriverManager\n",
    "import sys\n",
    "sys.path.insert(0,'/usr/lib/chromium-browser/chromedriver')\n",
    "import time\n",
    "from selenium.webdriver.common.by import By\n",
    "from selenium.webdriver.common.keys import Keys\n",
    "from selenium.webdriver.chrome.options import Options\n",
    "\n",
    "driver = webdriver.Chrome(service=Service(ChromeDriverManager().install()))\n",
    "driver.get(\"https://www.Nexis.com\")\n",
    "\n",
    "time.sleep(5)\n",
    "access = driver.find_element(By.CLASS_NAME, \"mipguest\") # Only at Uni\n",
    "access.click()\n",
    "\n",
    "\n",
    "time.sleep(5)\n",
    "search = driver.find_element(By.CSS_SELECTOR, \"lng-expanding-textarea[placeholder='Geef termen, bronnen of bedrijven op']\")\n",
    "search.click()\n",
    "search.send_keys('ongeval AND verkeer' + Keys.ENTER)\n",
    "\n",
    "n=50 # Maximum of 500 articles per export\n",
    "for i in range(n):\n",
    "    time.sleep(5)\n",
    "    selectall_button = driver.find_element(By.CSS_SELECTOR, \"input[data-action='selectall']\")\n",
    "    selectall_button.click()\n",
    "    time.sleep(2)\n",
    "    driver.execute_script(\"window.scrollTo(0, document.body.scrollHeight);\")\n",
    "\n",
    "    next_button = driver.find_element(By.CSS_SELECTOR, \"a[data-action='nextpage']\")\n",
    "    next_button.click()\n",
    "\n",
    "export = driver.find_element(By.CLASS_NAME, \"icon la-Download\")\n",
    "export.click()"
   ]
  },
  {
   "cell_type": "code",
   "execution_count": 3,
   "metadata": {},
   "outputs": [],
   "source": [
    "from selenium import webdriver\n",
    "from selenium.webdriver.chrome.service import Service\n",
    "from webdriver_manager.chrome import ChromeDriverManager\n",
    "import sys\n",
    "sys.path.insert(0,'/usr/lib/chromium-browser/chromedriver')\n",
    "import time\n",
    "from selenium.webdriver.common.by import By\n",
    "from selenium.webdriver.common.keys import Keys\n",
    "from selenium.webdriver.chrome.options import Options\n",
    "\n",
    "driver = webdriver.Chrome(service=Service(ChromeDriverManager().install()))\n",
    "driver.get(\"https://www.Nexis.com\")\n",
    "\n",
    "time.sleep(5)\n",
    "access = driver.find_element(By.CLASS_NAME, \"mipguest\") # Only at Uni\n",
    "access.click()\n",
    "\n"
   ]
  }
 ],
 "metadata": {
  "kernelspec": {
   "display_name": "base",
   "language": "python",
   "name": "python3"
  },
  "language_info": {
   "codemirror_mode": {
    "name": "ipython",
    "version": 3
   },
   "file_extension": ".py",
   "mimetype": "text/x-python",
   "name": "python",
   "nbconvert_exporter": "python",
   "pygments_lexer": "ipython3",
   "version": "3.12.7"
  }
 },
 "nbformat": 4,
 "nbformat_minor": 2
}
