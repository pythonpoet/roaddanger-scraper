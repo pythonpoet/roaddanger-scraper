{
 "cells": [
  {
   "cell_type": "code",
   "execution_count": null,
   "metadata": {},
   "outputs": [],
   "source": [
    "import requests\n",
    "import json\n",
    "\n",
    "url = ('https://newsapi.org/v2/everything?'\n",
    "       'q=ongeval&'\n",
    "       'sortBy=publishedAt&'\n",
    "       'language=nl&'\n",
    "       'apiKey=43fa783492f444faa7f23c03c5b09a6d')\n",
    "\n",
    "response = requests.get(url)\n",
    "\n",
    "data = response.json()\n",
    "\n",
    "data\n",
    "\n",
    "writeFile =open('newsapi.json', 'w')\n",
    "json_string = json.dumps(response.json())\n",
    "writeFile.write(json_string)\n",
    "writeFile.close()\n",
    "\n",
    "#articles = data['articles']\n",
    "\n",
    "#for article in articles[:3]:\n",
    " #   print(f\"{'-'*30}\")\n",
    "  #  print(f\"Title: {article['title']}\")\n",
    "   # print(f\"Date: {article['publishedAt']}\")\n",
    "    #print(f\"Content: {article['content']}\")\n",
    "    #print(f\"URL: {article['url']}\")"
   ]
  }
 ],
 "metadata": {
  "kernelspec": {
   "display_name": "base",
   "language": "python",
   "name": "python3"
  },
  "language_info": {
   "name": "python",
   "version": "3.12.7"
  }
 },
 "nbformat": 4,
 "nbformat_minor": 2
}
