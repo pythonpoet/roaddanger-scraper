{
 "cells": [
  {
   "cell_type": "code",
   "execution_count": 1,
   "metadata": {},
   "outputs": [
    {
     "name": "stderr",
     "output_type": "stream",
     "text": [
      "C:\\Users\\david\\AppData\\Roaming\\Python\\Python311\\site-packages\\pandas\\core\\arrays\\masked.py:60: UserWarning: Pandas requires version '1.3.6' or newer of 'bottleneck' (version '1.3.5' currently installed).\n",
      "  from pandas.core import (\n"
     ]
    }
   ],
   "source": [
    "import os, json\n",
    "from sqlite_db import *\n",
    "import pandas as pd\n",
    "\n",
    "path_to_json = 'C:/Users/david/OneDrive/Documents/Studium/UvA/Connections/roaddanger.org/roaddanger scraper/data/roaddanger_org_research_data.json/roaddanger_org_research_data.json'\n",
    "path_to_database = \"david_data.db\"\n"
   ]
  },
  {
   "cell_type": "code",
   "execution_count": 2,
   "metadata": {},
   "outputs": [],
   "source": [
    "def open_roaddanger_db(path):\n",
    "    with open(path) as json_file:\n",
    "        return json.load(json_file)\n",
    "\n",
    "data = open_roaddanger_db(path_to_json)"
   ]
  },
  {
   "cell_type": "markdown",
   "metadata": {},
   "source": [
    "Test imports, it should 10701"
   ]
  },
  {
   "cell_type": "code",
   "execution_count": 3,
   "metadata": {},
   "outputs": [
    {
     "data": {
      "text/plain": [
       "'total answers given: '"
      ]
     },
     "metadata": {},
     "output_type": "display_data"
    },
    {
     "data": {
      "text/plain": [
       "10701"
      ]
     },
     "metadata": {},
     "output_type": "display_data"
    }
   ],
   "source": [
    "display(\"total answers given: \",len(data[\"answers\"]))"
   ]
  },
  {
   "cell_type": "markdown",
   "metadata": {},
   "source": [
    "Function to extract id-corresponding elements"
   ]
  },
  {
   "cell_type": "code",
   "execution_count": null,
   "metadata": {},
   "outputs": [
    {
     "ename": "KeyError",
     "evalue": "'articles'",
     "output_type": "error",
     "traceback": [
      "\u001b[1;31m---------------------------------------------------------------------------\u001b[0m",
      "\u001b[1;31mKeyError\u001b[0m                                  Traceback (most recent call last)",
      "Cell \u001b[1;32mIn[12], line 9\u001b[0m\n\u001b[0;32m      5\u001b[0m             elements\u001b[38;5;241m.\u001b[39mappend(element)\n\u001b[0;32m      7\u001b[0m     \u001b[38;5;28;01mreturn\u001b[39;00m elements\n\u001b[1;32m----> 9\u001b[0m display(\u001b[38;5;28mlen\u001b[39m(data[\u001b[38;5;124m\"\u001b[39m\u001b[38;5;124marticles\u001b[39m\u001b[38;5;124m\"\u001b[39m]))\n",
      "\u001b[1;31mKeyError\u001b[0m: 'articles'"
     ]
    }
   ],
   "source": [
    "def articles_by_id(data, id:str) -> list:\n",
    "    elements=[]\n",
    "    for element in data:\n",
    "        if element[\"articleid\"] == id:\n",
    "            elements.append(element)\n",
    "\n",
    "    return elements\n",
    "\n",
    "display(len(data[\"articles\"]))"
   ]
  },
  {
   "cell_type": "code",
   "execution_count": 4,
   "metadata": {},
   "outputs": [
    {
     "data": {
      "text/plain": [
       "7422"
      ]
     },
     "execution_count": 4,
     "metadata": {},
     "output_type": "execute_result"
    }
   ],
   "source": [
    "data = data[\"answers\"]\n",
    "data = [item for item in data if item[\"questionid\"] != 16]\n",
    "len(data)"
   ]
  },
  {
   "cell_type": "markdown",
   "metadata": {},
   "source": [
    "Create dictionary to avoid computing articleid twice or mor"
   ]
  },
  {
   "cell_type": "code",
   "execution_count": 5,
   "metadata": {},
   "outputs": [
    {
     "data": {
      "text/plain": [
       "3731"
      ]
     },
     "execution_count": 5,
     "metadata": {},
     "output_type": "execute_result"
    }
   ],
   "source": [
    "dehumanising_dic = {}\n",
    "\n",
    "df = pd.DataFrame(data)\n",
    "\n",
    "articles = df[\"articleid\"].unique()\n",
    "\n",
    "for article in articles:\n",
    "    dehumanising_dic[article] = df[df[\"articleid\"] == article]\n",
    "\n",
    "len(dehumanising_dic)\n",
    "\n",
    "    \n"
   ]
  },
  {
   "cell_type": "markdown",
   "metadata": {},
   "source": [
    "Filter out questions that have question id is in interval 10-16 (excluding 16)"
   ]
  },
  {
   "cell_type": "code",
   "execution_count": 8,
   "metadata": {},
   "outputs": [
    {
     "data": {
      "text/plain": [
       "3691"
      ]
     },
     "execution_count": 8,
     "metadata": {},
     "output_type": "execute_result"
    }
   ],
   "source": [
    "keys_to_remove = []\n",
    "for key, value in dehumanising_dic.items():\n",
    "    q = value['questionid']\n",
    "    if not (q >= 10).all():\n",
    "        keys_to_remove.append(key)\n",
    "\n",
    "for key in keys_to_remove:\n",
    "    dehumanising_dic.pop(key,None)\n",
    "\n",
    "# Filterout q\n",
    "len(dehumanising_dic)"
   ]
  },
  {
   "cell_type": "markdown",
   "metadata": {},
   "source": [
    "Adding answers together to calculate dehumanisatinon\n",
    "\n",
    "Values consists of three values because people can also say its unclear."
   ]
  },
  {
   "cell_type": "code",
   "execution_count": null,
   "metadata": {},
   "outputs": [],
   "source": [
    "new_dict = {}\n",
    "\n",
    "for key, value in dehumanising_dic.items():\n",
    "    s = value[\"answer\"].replace(2,0)\n",
    "    s = s.replace(1,1)\n",
    "    new_dict[key] = s.sum()\n",
    "\n",
    "display(dehumanising_dic)"
   ]
  },
  {
   "cell_type": "markdown",
   "metadata": {},
   "source": [
    "Visualise distribution to verify results"
   ]
  },
  {
   "cell_type": "code",
   "execution_count": 10,
   "metadata": {},
   "outputs": [
    {
     "name": "stderr",
     "output_type": "stream",
     "text": [
      "c:\\ProgramData\\anaconda3\\Lib\\site-packages\\seaborn\\_oldcore.py:1119: FutureWarning: use_inf_as_na option is deprecated and will be removed in a future version. Convert inf values to NaN before operating instead.\n",
      "  with pd.option_context('mode.use_inf_as_na', True):\n",
      "c:\\ProgramData\\anaconda3\\Lib\\site-packages\\seaborn\\_oldcore.py:1075: FutureWarning: When grouping with a length-1 list-like, you will need to pass a length-1 tuple to get_group in a future version of pandas. Pass `(name,)` instead of `name` to silence this warning.\n",
      "  data_subset = grouped_data.get_group(pd_key)\n"
     ]
    },
    {
     "data": {
      "image/png": "[encoded data removed]",
      "text/plain": [
       "<Figure size 640x480 with 1 Axes>"
      ]
     },
     "metadata": {},
     "output_type": "display_data"
    }
   ],
   "source": [
    "import matplotlib.pyplot as plt\n",
    "import seaborn as sns\n",
    "# Create a histogram of the 'country' column\n",
    "\n",
    "sns.histplot(new_dict.values(), kde=False, discrete=True)\n",
    "# Set the y-axis to a logarithmic scale\n",
    "#plt.yscale('log')\n",
    "# Display the plot\n",
    "plt.title(\"Distribution of dehumanisation\")\n",
    "plt.xlabel(\"dehumanisation\")\n",
    "plt.ylabel(\"Count\")\n",
    "#plt.xticks(rotation=90)  # Rotate country labels for readability\n",
    "plt.show()"
   ]
  },
  {
   "cell_type": "code",
   "execution_count": 96,
   "metadata": {},
   "outputs": [
    {
     "name": "stdout",
     "output_type": "stream",
     "text": [
      "articleid: 13032 has a result of 7\n",
      "articleid: 14697 has a result of 7\n",
      "articleid: 15399 has a result of 7\n",
      "articleid: 15620 has a result of 7\n",
      "articleid: 15892 has a result of 7\n",
      "articleid: 15893 has a result of 7\n",
      "articleid: 18657 has a result of 7\n",
      "articleid: 19115 has a result of 7\n"
     ]
    },
    {
     "data": {
      "text/plain": [
       "8"
      ]
     },
     "execution_count": 96,
     "metadata": {},
     "output_type": "execute_result"
    }
   ],
   "source": [
    "counter=0\n",
    "for key, value in new_dict.items():\n",
    "    if value == 7:\n",
    "        counter += 1\n",
    "        print(f\"articleid: {key} has a result of {value}\")\n",
    "counter"
   ]
  },
  {
   "cell_type": "markdown",
   "metadata": {},
   "source": [
    "# Attemting to make sense of the results\n",
    "articleid: 10432 has a result of 5\n",
    "articleid: 12193 has a result of 5\n",
    "articleid: 13339 has a result of 5\n",
    "articleid: 17640 has a result of 5\n",
    "articleid: 18078 has a result of 5\n",
    "articleid: 18100 has a result of 5\n",
    "articleid: 18499 has a result of 5\n",
    "\n",
    "I could verify that articles that had a value of 6 where also clasified like that on roaddanger\n",
    "\n",
    "article 10432,12193 (5) is not there, also not in other evaluations\n",
    "\n",
    "13339,18078, 17640, 18100, 18499 is on the website\n",
    "\n"
   ]
  },
  {
   "cell_type": "code",
   "execution_count": 153,
   "metadata": {},
   "outputs": [
    {
     "data": {
      "image/png": "[encoded data removed]",
      "text/plain": [
       "<Figure size 640x480 with 1 Axes>"
      ]
     },
     "metadata": {},
     "output_type": "display_data"
    }
   ],
   "source": [
    "values = [0, 1, 2, 3, 4, 5, 6]\n",
    "counts_roaddanger = [1697, 1316, 45, 198, 72, 77, 29]\n",
    "import matplotlib.pyplot as plt\n",
    "import seaborn as sns\n",
    "from collections import Counter\n",
    "import numpy as np\n",
    "\n",
    "counts = Counter(new_dict.values())\n",
    "# Generate the list with counts for numbers 0 through 6\n",
    "result = [counts.get(i, 0) for i in range(7)]\n",
    "\n",
    "# Create a histogram of the 'country' column\n",
    "\n",
    "#plt.xticks(rotation=90)  # Rotate country labels for readability\n",
    "\n",
    "# Bar width for better visibility\n",
    "bar_width = 0.4\n",
    "\n",
    "# Generate bar positions\n",
    "positions1 = np.arange(len(values))  # Bar positions for the first dataset\n",
    "positions2 = positions1 + bar_width  # Bar positions for the second dataset\n",
    "\n",
    "# Plot the histograms\n",
    "plt.bar(positions1, result, width=bar_width, color='skyblue', label='Davids callculation', edgecolor='black')\n",
    "plt.bar(positions2, counts_roaddanger, width=bar_width, color='orange', label='Jans callculation', edgecolor='black')\n",
    "\n",
    "# Add labels, title, and legend\n",
    "plt.xlabel('Values')\n",
    "plt.ylabel('Counts')\n",
    "plt.title('Overlayed Histograms')\n",
    "plt.xticks(positions1 + bar_width / 2, values)  # Center the tick labels between bars\n",
    "plt.legend()\n",
    "\n",
    "# Display the plot\n",
    "plt.show()"
   ]
  }
 ],
 "metadata": {
  "kernelspec": {
   "display_name": "base",
   "language": "python",
   "name": "python3"
  },
  "language_info": {
   "codemirror_mode": {
    "name": "ipython",
    "version": 3
   },
   "file_extension": ".py",
   "mimetype": "text/x-python",
   "name": "python",
   "nbconvert_exporter": "python",
   "pygments_lexer": "ipython3",
   "version": "3.11.4"
  }
 },
 "nbformat": 4,
 "nbformat_minor": 2
}
